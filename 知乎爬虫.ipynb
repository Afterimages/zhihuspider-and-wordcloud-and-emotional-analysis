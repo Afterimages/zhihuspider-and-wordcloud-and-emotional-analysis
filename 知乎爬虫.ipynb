{
 "cells": [
  {
   "cell_type": "code",
   "execution_count": 2,
   "id": "3cb2c98c",
   "metadata": {},
   "outputs": [],
   "source": [
    "import requests"
   ]
  },
  {
   "cell_type": "code",
   "execution_count": 8,
   "id": "0976f692",
   "metadata": {},
   "outputs": [],
   "source": [
    "url = 'https://www.zhihu.com/api/v4/search_v3?t=general&q=孟晚舟回国'"
   ]
  },
  {
   "cell_type": "code",
   "execution_count": 9,
   "id": "315180a1",
   "metadata": {},
   "outputs": [],
   "source": [
    "headers = {\n",
    "    \"user-agent\": \"Mozilla/5.0 (Windows NT 10.0; Win64; x64) AppleWebKit/537.36 (KHTML, like Gecko) Chrome/95.0.4638.69 Safari/537.36\"\n",
    "}\n",
    "#https://www.zhihu.com/api/v4/search_v3?t=general&q=孟晚舟回国&correction=1&offset=0&limit=20&filter_fields=&lc_idx=0&show_all_topics=0&search_source=Normal"
   ]
  },
  {
   "cell_type": "code",
   "execution_count": 11,
   "id": "068797e1",
   "metadata": {},
   "outputs": [],
   "source": [
    "param = {\n",
    "    \"t\": \"general\",\n",
    "    \"q\": \"孟晚舟回国\",\n",
    "    \"correction\": \"1\",\n",
    "    \"offset\": 0,\n",
    "    \"limit\": \"20\",\n",
    "    \"filter_fields\":\"\",\n",
    "    \"lc_idx\": 0,\n",
    "    \"show_all_topics\": \"0\",\n",
    "    \"search_source\": \"Normal\",\n",
    "}"
   ]
  },
  {
   "cell_type": "code",
   "execution_count": 12,
   "id": "43022b85",
   "metadata": {},
   "outputs": [],
   "source": [
    "resp = requests.get(url = url, headers = headers,params = param)"
   ]
  },
  {
   "cell_type": "code",
   "execution_count": 15,
   "id": "b1ab3c91",
   "metadata": {},
   "outputs": [
    {
     "data": {
      "text/plain": [
       "{'error': {'code': 10002, 'message': '10002:请求参数异常，请升级客户端后重试'}}"
      ]
     },
     "execution_count": 15,
     "metadata": {},
     "output_type": "execute_result"
    }
   ],
   "source": [
    "resp.json()"
   ]
  },
  {
   "cell_type": "code",
   "execution_count": 16,
   "id": "def76f22",
   "metadata": {},
   "outputs": [],
   "source": [
    "resp.close()"
   ]
  },
  {
   "cell_type": "code",
   "execution_count": null,
   "id": "f6c5e076",
   "metadata": {},
   "outputs": [],
   "source": []
  }
 ],
 "metadata": {
  "kernelspec": {
   "display_name": "Python 3",
   "language": "python",
   "name": "python3"
  },
  "language_info": {
   "codemirror_mode": {
    "name": "ipython",
    "version": 3
   },
   "file_extension": ".py",
   "mimetype": "text/x-python",
   "name": "python",
   "nbconvert_exporter": "python",
   "pygments_lexer": "ipython3",
   "version": "3.8.8"
  }
 },
 "nbformat": 4,
 "nbformat_minor": 5
}
