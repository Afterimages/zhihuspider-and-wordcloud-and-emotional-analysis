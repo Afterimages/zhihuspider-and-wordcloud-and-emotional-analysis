{
 "cells": [
  {
   "cell_type": "code",
   "execution_count": 1,
   "id": "e8bf1b8f",
   "metadata": {},
   "outputs": [],
   "source": [
    "import csv\n",
    "import jieba\n",
    "import numpy as np"
   ]
  },
  {
   "cell_type": "markdown",
   "id": "76f07808",
   "metadata": {},
   "source": [
    "import xlrd"
   ]
  },
  {
   "cell_type": "code",
   "execution_count": 2,
   "id": "26645102",
   "metadata": {},
   "outputs": [],
   "source": [
    "#打开词典文件，返回列表\n",
    "def open_dict(Dict, path):\n",
    "    path = path + '%s.txt' % Dict\n",
    "    dictionary = open(path, 'r', encoding='utf-8')\n",
    "    dict = []\n",
    "    for word in dictionary:\n",
    "        word = word.strip('\\n')\n",
    "        dict.append(word)\n",
    "    return dict"
   ]
  },
  {
   "cell_type": "code",
   "execution_count": 3,
   "id": "cc249ffa",
   "metadata": {},
   "outputs": [],
   "source": [
    "def judgeodd(num):\n",
    "    if (num % 2) == 0:\n",
    "        return 'even'\n",
    "    else:\n",
    "        return 'odd'"
   ]
  },
  {
   "cell_type": "code",
   "execution_count": 4,
   "id": "57e99ca3",
   "metadata": {},
   "outputs": [],
   "source": [
    "#修改成自己的path路径。\n",
    "deny_word = open_dict(Dict = '否定词', path= r'./')\n",
    "posdict = open_dict(Dict = 'positive', path= r'./')\n",
    "negdict = open_dict(Dict = 'negative', path= r'./')\n",
    "degree_word = open_dict(Dict = '程度级别词语', path= r'./')\n",
    "mostdict = degree_word[degree_word.index('extreme')+1 : degree_word.index('very')]#权重4，即在情感词前乘以3\n",
    "verydict = degree_word[degree_word.index('very')+1 : degree_word.index('more')]#权重3\n",
    "moredict = degree_word[degree_word.index('more')+1 : degree_word.index('ish')]#权重2\n",
    "ishdict = degree_word[degree_word.index('ish')+1 : degree_word.index('last')]#权重0.5"
   ]
  },
  {
   "cell_type": "code",
   "execution_count": 5,
   "id": "db2a7c39",
   "metadata": {},
   "outputs": [],
   "source": [
    "def sentiment_score_list(dataset):\n",
    "    seg_sentence = dataset.split('。')\n",
    "\n",
    "    count1 = []\n",
    "    count2 = []\n",
    "    for sen in seg_sentence: #循环遍历每一个评论\n",
    "        segtmp = jieba.lcut(sen, cut_all=False)  #把句子进行分词，以列表的形式返回\n",
    "        i = 0 #记录扫描到的词的位置\n",
    "        a = 0 #记录情感词的位置\n",
    "        poscount = 0 #积极词的第一次分值\n",
    "        poscount2 = 0 #积极词反转后的分值\n",
    "        poscount3 = 0 #积极词的最后分值（包括叹号的分值）\n",
    "        negcount = 0\n",
    "        negcount2 = 0\n",
    "        negcount3 = 0\n",
    "        for word in segtmp:\n",
    "            if word in posdict:  # 判断词语是否是情感词\n",
    "                poscount += 1\n",
    "                c = 0\n",
    "                for w in segtmp[a:i]:  # 扫描情感词前的程度词\n",
    "                    if w in mostdict:\n",
    "                        poscount *= 4.0\n",
    "                    elif w in verydict:\n",
    "                        poscount *= 3.0\n",
    "                    elif w in moredict:\n",
    "                        poscount *= 2.0\n",
    "                    elif w in ishdict:\n",
    "                        poscount *= 0.5\n",
    "                    elif w in deny_word:\n",
    "                        c += 1\n",
    "                if judgeodd(c) == 'odd':  # 扫描情感词前的否定词数\n",
    "                    poscount *= -1.0\n",
    "                    poscount2 += poscount\n",
    "                    poscount = 0\n",
    "                    poscount3 = poscount + poscount2 + poscount3\n",
    "                    poscount2 = 0\n",
    "                else:\n",
    "                    poscount3 = poscount + poscount2 + poscount3\n",
    "                    poscount = 0\n",
    "                a = i + 1  # 情感词的位置变化\n",
    "\n",
    "            elif word in negdict:  # 消极情感的分析，与上面一致\n",
    "                negcount += 1\n",
    "                d = 0\n",
    "                for w in segtmp[a:i]:\n",
    "                    if w in mostdict:\n",
    "                        negcount *= 4.0\n",
    "                    elif w in verydict:\n",
    "                        negcount *= 3.0\n",
    "                    elif w in moredict:\n",
    "                        negcount *= 2.0\n",
    "                    elif w in ishdict:\n",
    "                        negcount *= 0.5\n",
    "                    elif w in degree_word:\n",
    "                        d += 1\n",
    "                if judgeodd(d) == 'odd':\n",
    "                    negcount *= -1.0\n",
    "                    negcount2 += negcount\n",
    "                    negcount = 0\n",
    "                    negcount3 = negcount + negcount2 + negcount3\n",
    "                    negcount2 = 0\n",
    "                else:\n",
    "                    negcount3 = negcount + negcount2 + negcount3\n",
    "                    negcount = 0\n",
    "                a = i + 1\n",
    "            elif word == '！' or word == '!':  ##判断句子是否有感叹号\n",
    "                for w2 in segtmp[::-1]:  # 扫描感叹号前的情感词，发现后权值+2，然后退出循环\n",
    "                    if w2 in posdict or negdict:\n",
    "                        poscount3 += 2\n",
    "                        negcount3 += 2\n",
    "                        break\n",
    "            i += 1 # 扫描词位置前移\n",
    "\n",
    "\n",
    "            # 防止出现负数的情况\n",
    "            pos_count = 0\n",
    "            neg_count = 0\n",
    "            if poscount3 < 0 and negcount3 > 0:\n",
    "                neg_count += negcount3 - poscount3\n",
    "                pos_count = 0\n",
    "            elif negcount3 < 0 and poscount3 > 0:\n",
    "                pos_count = poscount3 - negcount3\n",
    "                neg_count = 0\n",
    "            elif poscount3 < 0 and negcount3 < 0:\n",
    "                neg_count = -poscount3\n",
    "                pos_count = -negcount3\n",
    "            else:\n",
    "                pos_count = poscount3\n",
    "                neg_count = negcount3\n",
    "\n",
    "            count1.append([pos_count, neg_count])\n",
    "        count2.append(count1)\n",
    "        count1 = []\n",
    "\n",
    "    return count2"
   ]
  },
  {
   "cell_type": "code",
   "execution_count": 6,
   "id": "4fcee5ca",
   "metadata": {},
   "outputs": [],
   "source": [
    "def sentiment_score(senti_score_list):\n",
    "    score = []\n",
    "    for review in senti_score_list:\n",
    "        score_array = np.matrix(review)\n",
    "        Pos = np.sum(score_array,axis=0)\n",
    "        Neg = np.sum(score_array[:, 1])\n",
    "        score.append([Pos, Neg])\n",
    "    return score"
   ]
  },
  {
   "cell_type": "code",
   "execution_count": 7,
   "id": "f889d5b2",
   "metadata": {},
   "outputs": [],
   "source": [
    "result = []\n",
    "i=0"
   ]
  },
  {
   "cell_type": "markdown",
   "id": "59f9bc50",
   "metadata": {},
   "source": [
    "import pandas as pd"
   ]
  },
  {
   "cell_type": "code",
   "execution_count": 8,
   "id": "a1f6a54c",
   "metadata": {},
   "outputs": [
    {
     "name": "stderr",
     "output_type": "stream",
     "text": [
      "Building prefix dict from the default dictionary ...\n",
      "Loading model from cache C:\\Users\\HELLOZ~1\\AppData\\Local\\Temp\\jieba.cache\n",
      "Loading model cost 1.071 seconds.\n",
      "Prefix dict has been built successfully.\n"
     ]
    }
   ],
   "source": [
    "with open(\"title.txt\",\"r\",encoding = \"utf_8\") as f:\n",
    "    while 1:\n",
    "        line = f.readline()\n",
    "        if not line:\n",
    "            break\n",
    "        result.append(sentiment_score(sentiment_score_list(line)))\n",
    "        i+=1"
   ]
  },
  {
   "cell_type": "code",
   "execution_count": 9,
   "id": "ff6f1f91",
   "metadata": {},
   "outputs": [
    {
     "data": {
      "text/plain": [
       "[[[matrix([[0, 0]]), 0]],\n",
       " [[matrix([[41,  0]]), 0]],\n",
       " [[matrix([[ 0, 16]]), 16]],\n",
       " [[matrix([[34, 12]]), 12]],\n",
       " [[matrix([[9, 0]]), 0]],\n",
       " [[matrix([[ 0, 15]]), 15]],\n",
       " [[matrix([[0, 0]]), 0]],\n",
       " [[matrix([[ 6, 15]]), 15]],\n",
       " [[matrix([[11,  0]]), 0]],\n",
       " [[matrix([[0, 0]]), 0]],\n",
       " [[matrix([[14,  0]]), 0]],\n",
       " [[matrix([[-11.,   0.]]), 0.0]],\n",
       " [[matrix([[15., 23.]]), 23.0]],\n",
       " [[matrix([[40.,  0.]]), 0.0]],\n",
       " [[matrix([[18., 52.]]), 52.0]]]"
      ]
     },
     "execution_count": 9,
     "metadata": {},
     "output_type": "execute_result"
    }
   ],
   "source": [
    "result"
   ]
  },
  {
   "cell_type": "markdown",
   "id": "ab701993",
   "metadata": {},
   "source": [
    "result[2][0][0][0,1]"
   ]
  },
  {
   "cell_type": "code",
   "execution_count": 10,
   "id": "162c3cac",
   "metadata": {},
   "outputs": [
    {
     "data": {
      "text/plain": [
       "15"
      ]
     },
     "execution_count": 10,
     "metadata": {},
     "output_type": "execute_result"
    }
   ],
   "source": [
    "len(result)"
   ]
  },
  {
   "cell_type": "markdown",
   "id": "fc3b77a9",
   "metadata": {},
   "source": [
    "len(result)"
   ]
  },
  {
   "cell_type": "code",
   "execution_count": 11,
   "id": "51d60bc2",
   "metadata": {},
   "outputs": [],
   "source": [
    "p = []\n",
    "n = []"
   ]
  },
  {
   "cell_type": "markdown",
   "id": "3b514764",
   "metadata": {},
   "source": [
    "while i <len(result):\n",
    "    p.append(result)"
   ]
  },
  {
   "cell_type": "code",
   "execution_count": 12,
   "id": "00c49823",
   "metadata": {},
   "outputs": [],
   "source": [
    "positive = 0\n",
    "negative = 0"
   ]
  },
  {
   "cell_type": "code",
   "execution_count": 13,
   "id": "d5f8f06a",
   "metadata": {},
   "outputs": [],
   "source": [
    "i =0"
   ]
  },
  {
   "cell_type": "markdown",
   "id": "bbd44971",
   "metadata": {},
   "source": [
    "##情感分析总和\n",
    "while i <len(result):\n",
    "    positive +=result[i][0][0][0,0]\n",
    "    negative +=result[i][0][0][0,1]\n",
    "    i+=1"
   ]
  },
  {
   "cell_type": "code",
   "execution_count": 14,
   "id": "51211c15",
   "metadata": {},
   "outputs": [],
   "source": [
    "##每一个评论的情感分析\n",
    "while i <len(result):\n",
    "    if result[i][0][0][0,0] > result[i][0][0][0,1]:\n",
    "        positive +=1\n",
    "    else :\n",
    "        negative +=1 \n",
    "    i+=1"
   ]
  },
  {
   "cell_type": "code",
   "execution_count": 15,
   "id": "a7c36bf9",
   "metadata": {},
   "outputs": [
    {
     "data": {
      "text/plain": [
       "6"
      ]
     },
     "execution_count": 15,
     "metadata": {},
     "output_type": "execute_result"
    }
   ],
   "source": [
    "positive"
   ]
  },
  {
   "cell_type": "code",
   "execution_count": 16,
   "id": "3d360c4f",
   "metadata": {},
   "outputs": [
    {
     "data": {
      "text/plain": [
       "9"
      ]
     },
     "execution_count": 16,
     "metadata": {},
     "output_type": "execute_result"
    }
   ],
   "source": [
    "negative"
   ]
  },
  {
   "cell_type": "code",
   "execution_count": 23,
   "id": "fbd463a9",
   "metadata": {},
   "outputs": [],
   "source": [
    "# -*- coding: utf-8 -*-\n",
    "import matplotlib.pyplot as plt\n",
    "from matplotlib.font_manager import FontProperties\n",
    "font = FontProperties(fname=r\"C:\\Windows\\Fonts\\simhei.ttf\", size=10)  "
   ]
  },
  {
   "cell_type": "code",
   "execution_count": 25,
   "id": "38edbb47",
   "metadata": {},
   "outputs": [
    {
     "name": "stderr",
     "output_type": "stream",
     "text": [
      "<ipython-input-25-6664e52c1f5e>:14: MatplotlibDeprecationWarning: Case-insensitive properties were deprecated in 3.3 and support will be removed two minor releases later\n",
      "  plt.title(u'孟晚舟回国知乎问题综合排名前10情感分析条形图', FontProperties=font)\n"
     ]
    },
    {
     "data": {
      "image/png": "[encoded data removed]",
      "text/plain": [
       "<Figure size 432x288 with 1 Axes>"
      ]
     },
     "metadata": {
      "needs_background": "light"
     },
     "output_type": "display_data"
    }
   ],
   "source": [
    "plt.bar([1], [negative], label='negative',width = 0.2)\n",
    "plt.bar([0], [positive], label='positive',width = 0.2)\n",
    "# x: 条形图x轴\n",
    "# y：条形图的高度\n",
    "# width：条形图的宽度 默认是0.8\n",
    "# bottom：条形底部的y坐标值 默认是0\n",
    "# align：center / edge 条形图是否以x轴坐标为中心点或者是以x轴坐标为边缘\n",
    "\n",
    "plt.legend()\n",
    "\n",
    "plt.xlabel('positive&negative')\n",
    "plt.ylabel('number')\n",
    "\n",
    "plt.title(u'孟晚舟回国知乎问题综合排名前10情感分析条形图', FontProperties=font)\n",
    "\n",
    "plt.show()\n"
   ]
  },
  {
   "cell_type": "code",
   "execution_count": null,
   "id": "d3ae62c6",
   "metadata": {},
   "outputs": [],
   "source": [
    "data = '你就是个王八蛋，混账玩意!你们的手机真不好用！非常生气，我非常郁闷！！！！'\n",
    "data2= '我好开心啊，非常非常非常高兴！今天我得了一百分，我很兴奋开心，愉快，开心'\n",
    "\n",
    "print(sentiment_score(sentiment_score_list(data)))\n",
    "print(sentiment_score(sentiment_score_list(data2)))"
   ]
  },
  {
   "cell_type": "code",
   "execution_count": null,
   "id": "f69f4960",
   "metadata": {},
   "outputs": [],
   "source": [
    "from textblob.classifiers import NaiveBayesClassifier\n",
    "\n",
    "train=[\n",
    "        ('I love this car','pos'),\n",
    "        ('This view is amazing','pos'),\n",
    "        ('I feel great','pos'),\n",
    "        ('I am so excited about the concert','pos'),\n",
    "        (\"He is my best friend\",'pos'),\n",
    "        ('I do not like this car','neg'),\n",
    "        ('This view is horrible','neg'),\n",
    "        (\"I feel tired this morning\",'neg'),\n",
    "        ('I am not looking forward to the concert','neg'),\n",
    "        ('He is an annoying enemy','neg')\n",
    "]\n",
    "\n",
    "test=[\n",
    "        ('I feel happy this morning','pos'),\n",
    "        ('Oh I love my friend','pos'),\n",
    "        ('not like that man','neg'),\n",
    "        (\"this hourse is not great\",'neg'),\n",
    "        ('your song is annoying','neg')\n",
    "]\n",
    "\n",
    "cl=NaiveBayesClassifier(train)\n",
    "\n",
    "for sentence in test:\n",
    "    print(sentence[0],'：',cl.classify(sentence[0]))"
   ]
  },
  {
   "cell_type": "code",
   "execution_count": null,
   "id": "b106fb97",
   "metadata": {},
   "outputs": [],
   "source": []
  }
 ],
 "metadata": {
  "kernelspec": {
   "display_name": "Python 3",
   "language": "python",
   "name": "python3"
  },
  "language_info": {
   "codemirror_mode": {
    "name": "ipython",
    "version": 3
   },
   "file_extension": ".py",
   "mimetype": "text/x-python",
   "name": "python",
   "nbconvert_exporter": "python",
   "pygments_lexer": "ipython3",
   "version": "3.8.8"
  }
 },
 "nbformat": 4,
 "nbformat_minor": 5
}
