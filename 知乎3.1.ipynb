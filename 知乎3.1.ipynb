{
 "cells": [
  {
   "cell_type": "code",
   "execution_count": 9,
   "id": "968bc5eb",
   "metadata": {},
   "outputs": [],
   "source": [
    "import time\n",
    "import json\n",
    "from selenium import webdriver\n",
    "from selenium.webdriver.chrome.options import Options\n",
    "from selenium.webdriver.support.ui import WebDriverWait\n",
    "import requests"
   ]
  },
  {
   "cell_type": "code",
   "execution_count": 3,
   "id": "bbb0716d",
   "metadata": {},
   "outputs": [],
   "source": [
    "class ZhiHu:\n",
    "    def __init__(self):\n",
    "        self.url = 'https://www.zhihu.com/'\n",
    "        self.chrome_options = Options()\n",
    "        self.chrome_options.add_experimental_option(\"debuggerAddress\", \"127.0.0.1:9222\")  #  前面设置的端口号\n",
    "        self.browser = webdriver.Chrome(options=self.chrome_options)  # executable执行webdriver驱动的文件\n",
    "\n",
    "    def get_start(self):\n",
    "        self.browser.get(self.url)\n",
    "        # time.sleep(20)  # 可以选择手动登录或者是自动化，我这里登录过就直接登陆了\n",
    "        info = self.browser.get_cookies()  # 获取cookies\n",
    "        print(info)\n",
    "        with open(r\"..\\download_txt\\info.json\", 'w', encoding='utf-8') as f:\n",
    "            f.write(json.dumps(info))\n"
   ]
  },
  {
   "cell_type": "code",
   "execution_count": 5,
   "id": "faf3e0c4",
   "metadata": {},
   "outputs": [],
   "source": [
    "class ZhiHu:\n",
    "    def __init__(self):\n",
    "        self.url = 'https://www.zhihu.com/'\n",
    "        self.chrome_options = Options()\n",
    "        self.chrome_options.add_experimental_option(\"debuggerAddress\", \"127.0.0.1:9222\")  #  前面设置的端口号\n",
    "        self.browser = webdriver.Chrome(executable_path=r'E:\\Environment\\python_global\\Scripts\\chromedriver.exe', options=self.chrome_options)  # executable执行webdriver驱动的文件\n",
    "\n",
    "    def get_start(self):\n",
    "        self.browser.get(self.url)\n",
    "        # time.sleep(20)  # 可以选择手动登录或者是自动化，我这里登录过就直接登陆了\n",
    "        info = self.browser.get_cookies()  # 获取cookies\n",
    "        print(info)\n",
    "        with open(r\"..\\download_txt\\info.json\", 'w', encoding='utf-8') as f:\n",
    "            f.write(json.dumps(info))\n",
    "\n",
    "\n",
    "if __name__ == '__main__':\n",
    "    zhihu = ZhiHu()\n",
    "    zhihu.get_start()\n"
   ]
  },
  {
   "cell_type": "code",
   "execution_count": 6,
   "id": "533cd98c",
   "metadata": {},
   "outputs": [],
   "source": [
    "url = 'https://www.zhihu.com/api/v4/search_v3?t=general&q=孟晚舟回国'"
   ]
  },
  {
   "cell_type": "code",
   "execution_count": 7,
   "id": "3e96e911",
   "metadata": {},
   "outputs": [],
   "source": [
    "param = {\n",
    "    \"t\": \"general\",\n",
    "    \"q\": \"孟晚舟回国\",\n",
    "    \"correction\": \"1\",\n",
    "    \"offset\": 0,\n",
    "    \"limit\": \"20\",\n",
    "    \"filter_fields\":\"\",\n",
    "    \"lc_idx\": 0,\n",
    "    \"show_all_topics\": \"0\",\n",
    "    \"search_source\": \"Normal\",\n",
    "}"
   ]
  },
  {
   "cell_type": "code",
   "execution_count": 11,
   "id": "6e47717c",
   "metadata": {},
   "outputs": [],
   "source": [
    "dri.get(url = url, params = param)"
   ]
  },
  {
   "cell_type": "code",
   "execution_count": 13,
   "id": "f07f24dc",
   "metadata": {},
   "outputs": [
    {
     "data": {
      "text/plain": [
       "'<html>\\r\\n<head><title>403 Forbidden</title></head>\\r\\n<body bgcolor=\"white\">\\r\\n<center><h1>403 Forbidden</h1></center>\\r\\n<hr><center>openresty</center>\\r\\n</body>\\r\\n</html>\\r\\n'"
      ]
     },
     "execution_count": 13,
     "metadata": {},
     "output_type": "execute_result"
    }
   ],
   "source": [
    "resp.text"
   ]
  },
  {
   "cell_type": "code",
   "execution_count": null,
   "id": "d05fcb9d",
   "metadata": {},
   "outputs": [],
   "source": []
  }
 ],
 "metadata": {
  "kernelspec": {
   "display_name": "Python 3",
   "language": "python",
   "name": "python3"
  },
  "language_info": {
   "codemirror_mode": {
    "name": "ipython",
    "version": 3
   },
   "file_extension": ".py",
   "mimetype": "text/x-python",
   "name": "python",
   "nbconvert_exporter": "python",
   "pygments_lexer": "ipython3",
   "version": "3.8.8"
  }
 },
 "nbformat": 4,
 "nbformat_minor": 5
}
